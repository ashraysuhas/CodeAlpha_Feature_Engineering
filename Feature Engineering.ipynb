{
 "cells": [
  {
   "cell_type": "markdown",
   "metadata": {},
   "source": [
    "Feature Engineering"
   ]
  },
  {
   "cell_type": "markdown",
   "metadata": {},
   "source": [
    "1. Time-Based Features"
   ]
  },
  {
   "cell_type": "code",
   "execution_count": 3,
   "metadata": {
    "metadata": {}
   },
   "outputs": [
    {
     "name": "stdout",
     "output_type": "stream",
     "text": [
      "            timestamp  equipment_id  temperature  pressure  vibration  \\\n",
      "0 2024-05-01 00:00:00             1           70        30       0.02   \n",
      "1 2024-05-01 01:00:00             1           71        29       0.03   \n",
      "2 2024-05-01 02:00:00             1           69        31       0.02   \n",
      "3 2024-05-01 03:00:00             1           72        32       0.04   \n",
      "\n",
      "   failure  hour  day_of_week  is_working_hour  \n",
      "0        0     0            2                0  \n",
      "1        0     1            2                0  \n",
      "2        0     2            2                0  \n",
      "3        1     3            2                0  \n"
     ]
    }
   ],
   "source": [
    "import pandas as pd\n",
    "\n",
    "# Load dataset\n",
    "data = pd.DataFrame({\n",
    "    'timestamp': pd.date_range(start = '2024-05-01 00:00:00', periods = 4, freq = 'H'),\n",
    "    'equipment_id': [1, 1, 1, 1],\n",
    "    'temperature': [70, 71, 69, 72],\n",
    "    'pressure': [30, 29, 31, 32],\n",
    "    'vibration': [0.02, 0.03, 0.02, 0.04],\n",
    "    'failure': [0, 0, 0, 1]\n",
    "    \n",
    "})\n",
    "\n",
    "# Extract time-based features\n",
    "data['hour'] = data['timestamp'].dt.hour\n",
    "data['day_of_week'] = data['timestamp'].dt.dayofweek\n",
    "data['is_working_hour'] = data['hour'].between(9, 17).astype(int)\n",
    "\n",
    "print(data)"
   ]
  },
  {
   "cell_type": "markdown",
   "metadata": {},
   "source": [
    "2. Rolling Statistics"
   ]
  },
  {
   "cell_type": "code",
   "execution_count": 4,
   "metadata": {
    "metadata": {}
   },
   "outputs": [
    {
     "name": "stdout",
     "output_type": "stream",
     "text": [
      "                     equipment_id  temperature  pressure  vibration  failure  \\\n",
      "timestamp                                                                      \n",
      "2024-05-01 00:00:00             1           70        30       0.02        0   \n",
      "2024-05-01 01:00:00             1           71        29       0.03        0   \n",
      "2024-05-01 02:00:00             1           69        31       0.02        0   \n",
      "2024-05-01 03:00:00             1           72        32       0.04        1   \n",
      "\n",
      "                     hour  day_of_week  is_working_hour  temp_mean  temp_std  \\\n",
      "timestamp                                                                      \n",
      "2024-05-01 00:00:00     0            2                0        NaN       NaN   \n",
      "2024-05-01 01:00:00     1            2                0       70.5  0.707107   \n",
      "2024-05-01 02:00:00     2            2                0       70.0  1.414214   \n",
      "2024-05-01 03:00:00     3            2                0       70.5  2.121320   \n",
      "\n",
      "                     temp_max  pressure_mean  pressure_std  pressure_max  \\\n",
      "timestamp                                                                  \n",
      "2024-05-01 00:00:00       NaN            NaN           NaN           NaN   \n",
      "2024-05-01 01:00:00      71.0           29.5      0.707107          30.0   \n",
      "2024-05-01 02:00:00      71.0           30.0      1.414214          31.0   \n",
      "2024-05-01 03:00:00      72.0           31.5      0.707107          32.0   \n",
      "\n",
      "                     vibration_mean  vibration_std  vibration_max  \n",
      "timestamp                                                          \n",
      "2024-05-01 00:00:00             NaN            NaN            NaN  \n",
      "2024-05-01 01:00:00           0.025       0.007071           0.03  \n",
      "2024-05-01 02:00:00           0.025       0.007071           0.03  \n",
      "2024-05-01 03:00:00           0.030       0.014142           0.04  \n"
     ]
    }
   ],
   "source": [
    "# Set the index to timestamp\n",
    "data.set_index('timestamp', inplace=True)\n",
    "\n",
    "# Calculate rolling statistics for temperature, pressure, and vibration\n",
    "window_size = 2\n",
    "data['temp_mean'] = data.groupby('equipment_id')['temperature'].rolling(window=window_size).mean().reset_index(0, drop=True)\n",
    "data['temp_std'] = data.groupby('equipment_id')['temperature'].rolling(window=window_size).std().reset_index(0, drop=True)\n",
    "data['temp_max'] = data.groupby('equipment_id')['temperature'].rolling(window=window_size).max().reset_index(0, drop=True)\n",
    "\n",
    "data['pressure_mean'] = data.groupby('equipment_id')['pressure'].rolling(window=window_size).mean().reset_index(0, drop=True)\n",
    "data['pressure_std'] = data.groupby('equipment_id')['pressure'].rolling(window=window_size).std().reset_index(0, drop=True)\n",
    "data['pressure_max'] = data.groupby('equipment_id')['pressure'].rolling(window=window_size).max().reset_index(0, drop=True)\n",
    "\n",
    "data['vibration_mean'] = data.groupby('equipment_id')['vibration'].rolling(window=window_size).mean().reset_index(0, drop=True)\n",
    "data['vibration_std'] = data.groupby('equipment_id')['vibration'].rolling(window=window_size).std().reset_index(0, drop=True)\n",
    "data['vibration_max'] = data.groupby('equipment_id')['vibration'].rolling(window=window_size).max().reset_index(0, drop=True)\n",
    "\n",
    "print(data)"
   ]
  },
  {
   "cell_type": "markdown",
   "metadata": {},
   "source": [
    "3. Lag Features"
   ]
  },
  {
   "cell_type": "code",
   "execution_count": 5,
   "metadata": {
    "metadata": {}
   },
   "outputs": [
    {
     "name": "stdout",
     "output_type": "stream",
     "text": [
      "                     equipment_id  temperature  pressure  vibration  failure  \\\n",
      "timestamp                                                                      \n",
      "2024-05-01 00:00:00             1           70        30       0.02        0   \n",
      "2024-05-01 01:00:00             1           71        29       0.03        0   \n",
      "2024-05-01 02:00:00             1           69        31       0.02        0   \n",
      "2024-05-01 03:00:00             1           72        32       0.04        1   \n",
      "\n",
      "                     hour  day_of_week  is_working_hour  temp_mean  temp_std  \\\n",
      "timestamp                                                                      \n",
      "2024-05-01 00:00:00     0            2                0        NaN       NaN   \n",
      "2024-05-01 01:00:00     1            2                0       70.5  0.707107   \n",
      "2024-05-01 02:00:00     2            2                0       70.0  1.414214   \n",
      "2024-05-01 03:00:00     3            2                0       70.5  2.121320   \n",
      "\n",
      "                     temp_max  pressure_mean  pressure_std  pressure_max  \\\n",
      "timestamp                                                                  \n",
      "2024-05-01 00:00:00       NaN            NaN           NaN           NaN   \n",
      "2024-05-01 01:00:00      71.0           29.5      0.707107          30.0   \n",
      "2024-05-01 02:00:00      71.0           30.0      1.414214          31.0   \n",
      "2024-05-01 03:00:00      72.0           31.5      0.707107          32.0   \n",
      "\n",
      "                     vibration_mean  vibration_std  vibration_max  temp_lag1  \\\n",
      "timestamp                                                                      \n",
      "2024-05-01 00:00:00             NaN            NaN            NaN        NaN   \n",
      "2024-05-01 01:00:00           0.025       0.007071           0.03       70.0   \n",
      "2024-05-01 02:00:00           0.025       0.007071           0.03       71.0   \n",
      "2024-05-01 03:00:00           0.030       0.014142           0.04       69.0   \n",
      "\n",
      "                     pressure_lag1  vibration_lag1  \n",
      "timestamp                                           \n",
      "2024-05-01 00:00:00            NaN             NaN  \n",
      "2024-05-01 01:00:00           30.0            0.02  \n",
      "2024-05-01 02:00:00           29.0            0.03  \n",
      "2024-05-01 03:00:00           31.0            0.02  \n"
     ]
    }
   ],
   "source": [
    "# Create lag features for temperature, pressure, and vibration\n",
    "data['temp_lag1'] = data.groupby('equipment_id')['temperature'].shift(1)\n",
    "data['pressure_lag1'] = data.groupby('equipment_id')['pressure'].shift(1)\n",
    "data['vibration_lag1'] = data.groupby('equipment_id')['vibration'].shift(1)\n",
    "\n",
    "print(data)"
   ]
  }
 ],
 "metadata": {
  "kernelspec": {
   "display_name": "base",
   "language": "python",
   "name": "python3"
  },
  "language_info": {
   "codemirror_mode": {
    "name": "ipython",
    "version": 3
   },
   "file_extension": ".py",
   "mimetype": "text/x-python",
   "name": "python",
   "nbconvert_exporter": "python",
   "pygments_lexer": "ipython3",
   "version": "3.11.4"
  }
 },
 "nbformat": 4,
 "nbformat_minor": 2
}
